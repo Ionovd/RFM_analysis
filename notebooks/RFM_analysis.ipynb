{
 "cells": [
  {
   "cell_type": "markdown",
   "metadata": {},
   "source": [
    "# RFM analysis project\n",
    "\n"
   ]
  },
  {
   "cell_type": "markdown",
   "metadata": {},
   "source": [
    "## Описание проекта"
   ]
  },
  {
   "cell_type": "markdown",
   "metadata": {},
   "source": [
    "Небольшой пэт-проект по RFM анализу(метод анализа клиентов на основе их поведения: Recency, Frequency, Monetary):\n",
    "\n",
    "* Вводные данные были сгенерированы с помощью AI.\n",
    "\n",
    "* На основе данных сегментируем пользователей и выделяем их ключевые характеристики.\n",
    "\n",
    "* Строим barplot и heatmap для представления результатов.\n",
    "\n",
    "* Сохраняем результат в файл reports, вместе с графиками.\n",
    "\n"
   ]
  },
  {
   "cell_type": "markdown",
   "metadata": {},
   "source": [
    "## Описание данных\n"
   ]
  },
  {
   "cell_type": "markdown",
   "metadata": {},
   "source": [
    "* CustomerID – уникальный идентификатор клиента.\n",
    "\n",
    "* InvoiceDate – дата покупки.\n",
    "\n",
    "* InvoiceID – номер счета/чека.\n",
    "\n",
    "* ProductID – уникальный идентификатор товара.\n",
    "\n",
    "* Quantity – количество проданных единиц товара.\n",
    "\n",
    "* Price – цена за единицу товара.\n",
    "\n",
    "* TotalAmount – общая сумма по строке (Quantity * Price)."
   ]
  },
  {
   "cell_type": "markdown",
   "metadata": {},
   "source": [
    "## Подготовка данных"
   ]
  },
  {
   "cell_type": "code",
   "execution_count": 94,
   "metadata": {},
   "outputs": [],
   "source": [
    "\n",
    "import pandas as pd\n",
    "import datetime as dt\n",
    "import matplotlib.pyplot as plt\n",
    "import seaborn as sns\n",
    "\n"
   ]
  },
  {
   "cell_type": "code",
   "execution_count": 95,
   "metadata": {},
   "outputs": [],
   "source": [
    "df = pd.read_csv(r'C:\\Users\\sinic\\Projects_Repositories\\RFM_analysis\\data\\external\\rfm_sales_data.csv')\n",
    "    "
   ]
  },
  {
   "cell_type": "code",
   "execution_count": 96,
   "metadata": {},
   "outputs": [
    {
     "data": {
      "text/html": [
       "<div>\n",
       "<style scoped>\n",
       "    .dataframe tbody tr th:only-of-type {\n",
       "        vertical-align: middle;\n",
       "    }\n",
       "\n",
       "    .dataframe tbody tr th {\n",
       "        vertical-align: top;\n",
       "    }\n",
       "\n",
       "    .dataframe thead th {\n",
       "        text-align: right;\n",
       "    }\n",
       "</style>\n",
       "<table border=\"1\" class=\"dataframe\">\n",
       "  <thead>\n",
       "    <tr style=\"text-align: right;\">\n",
       "      <th></th>\n",
       "      <th>CustomerID</th>\n",
       "      <th>InvoiceID</th>\n",
       "      <th>InvoiceDate</th>\n",
       "      <th>ProductID</th>\n",
       "      <th>Quantity</th>\n",
       "      <th>Price</th>\n",
       "      <th>TotalAmount</th>\n",
       "    </tr>\n",
       "  </thead>\n",
       "  <tbody>\n",
       "    <tr>\n",
       "      <th>0</th>\n",
       "      <td>CUST_46</td>\n",
       "      <td>INV_7894</td>\n",
       "      <td>2023-01-01 03:16:23</td>\n",
       "      <td>PROD_23</td>\n",
       "      <td>8</td>\n",
       "      <td>110.76</td>\n",
       "      <td>886.08</td>\n",
       "    </tr>\n",
       "    <tr>\n",
       "      <th>1</th>\n",
       "      <td>CUST_98</td>\n",
       "      <td>INV_2691</td>\n",
       "      <td>2023-01-01 13:10:11</td>\n",
       "      <td>PROD_11</td>\n",
       "      <td>8</td>\n",
       "      <td>26.70</td>\n",
       "      <td>213.60</td>\n",
       "    </tr>\n",
       "    <tr>\n",
       "      <th>2</th>\n",
       "      <td>CUST_51</td>\n",
       "      <td>INV_9207</td>\n",
       "      <td>2023-01-01 14:22:28</td>\n",
       "      <td>PROD_11</td>\n",
       "      <td>7</td>\n",
       "      <td>34.33</td>\n",
       "      <td>240.31</td>\n",
       "    </tr>\n",
       "    <tr>\n",
       "      <th>3</th>\n",
       "      <td>CUST_36</td>\n",
       "      <td>INV_9470</td>\n",
       "      <td>2023-01-01 14:35:17</td>\n",
       "      <td>PROD_33</td>\n",
       "      <td>10</td>\n",
       "      <td>488.50</td>\n",
       "      <td>4885.00</td>\n",
       "    </tr>\n",
       "  </tbody>\n",
       "</table>\n",
       "</div>"
      ],
      "text/plain": [
       "  CustomerID InvoiceID          InvoiceDate ProductID  Quantity   Price  \\\n",
       "0    CUST_46  INV_7894  2023-01-01 03:16:23   PROD_23         8  110.76   \n",
       "1    CUST_98  INV_2691  2023-01-01 13:10:11   PROD_11         8   26.70   \n",
       "2    CUST_51  INV_9207  2023-01-01 14:22:28   PROD_11         7   34.33   \n",
       "3    CUST_36  INV_9470  2023-01-01 14:35:17   PROD_33        10  488.50   \n",
       "\n",
       "   TotalAmount  \n",
       "0       886.08  \n",
       "1       213.60  \n",
       "2       240.31  \n",
       "3      4885.00  "
      ]
     },
     "metadata": {},
     "output_type": "display_data"
    },
    {
     "data": {
      "text/html": [
       "<div>\n",
       "<style scoped>\n",
       "    .dataframe tbody tr th:only-of-type {\n",
       "        vertical-align: middle;\n",
       "    }\n",
       "\n",
       "    .dataframe tbody tr th {\n",
       "        vertical-align: top;\n",
       "    }\n",
       "\n",
       "    .dataframe thead th {\n",
       "        text-align: right;\n",
       "    }\n",
       "</style>\n",
       "<table border=\"1\" class=\"dataframe\">\n",
       "  <thead>\n",
       "    <tr style=\"text-align: right;\">\n",
       "      <th></th>\n",
       "      <th>CustomerID</th>\n",
       "      <th>InvoiceID</th>\n",
       "      <th>InvoiceDate</th>\n",
       "      <th>ProductID</th>\n",
       "      <th>Quantity</th>\n",
       "      <th>Price</th>\n",
       "      <th>TotalAmount</th>\n",
       "    </tr>\n",
       "  </thead>\n",
       "  <tbody>\n",
       "    <tr>\n",
       "      <th>999</th>\n",
       "      <td>CUST_70</td>\n",
       "      <td>INV_2226</td>\n",
       "      <td>2024-01-01 14:12:34</td>\n",
       "      <td>PROD_33</td>\n",
       "      <td>10</td>\n",
       "      <td>285.36</td>\n",
       "      <td>2853.6</td>\n",
       "    </tr>\n",
       "  </tbody>\n",
       "</table>\n",
       "</div>"
      ],
      "text/plain": [
       "    CustomerID InvoiceID          InvoiceDate ProductID  Quantity   Price  \\\n",
       "999    CUST_70  INV_2226  2024-01-01 14:12:34   PROD_33        10  285.36   \n",
       "\n",
       "     TotalAmount  \n",
       "999       2853.6  "
      ]
     },
     "metadata": {},
     "output_type": "display_data"
    },
    {
     "name": "stdout",
     "output_type": "stream",
     "text": [
      "<class 'pandas.core.frame.DataFrame'>\n",
      "RangeIndex: 1000 entries, 0 to 999\n",
      "Data columns (total 7 columns):\n",
      " #   Column       Non-Null Count  Dtype  \n",
      "---  ------       --------------  -----  \n",
      " 0   CustomerID   1000 non-null   object \n",
      " 1   InvoiceID    1000 non-null   object \n",
      " 2   InvoiceDate  1000 non-null   object \n",
      " 3   ProductID    1000 non-null   object \n",
      " 4   Quantity     1000 non-null   int64  \n",
      " 5   Price        1000 non-null   float64\n",
      " 6   TotalAmount  1000 non-null   float64\n",
      "dtypes: float64(2), int64(1), object(4)\n",
      "memory usage: 54.8+ KB\n"
     ]
    },
    {
     "data": {
      "text/plain": [
       "None"
      ]
     },
     "metadata": {},
     "output_type": "display_data"
    },
    {
     "name": "stdout",
     "output_type": "stream",
     "text": [
      "Кол-во дубликатов:  0\n",
      "Кол-во неявных дубликатво:  0\n",
      "Уникальных покупателей: 100\n"
     ]
    }
   ],
   "source": [
    "\n",
    "def first_info(df):\n",
    "    display(df.head(4))\n",
    "    display(df.tail(1))\n",
    "    display(df.info())\n",
    "    print('Кол-во дубликатов: ', df.duplicated().sum())\n",
    "    print('Кол-во неявных дубликатво: ', df[['CustomerID','ProductID','TotalAmount']].duplicated().sum())\n",
    "    print(f\"Уникальных покупателей: {df['CustomerID'].nunique()}\")\n",
    "\n",
    "first_info(df)"
   ]
  },
  {
   "cell_type": "code",
   "execution_count": 97,
   "metadata": {},
   "outputs": [],
   "source": [
    "# Приведем название столбцов к общему виду и удобному виду.\n",
    "df.rename(columns={\n",
    "    \"CustomerID\": \"customer_id\",\n",
    "    \"InvoiceID\": \"invoice_id\",\n",
    "    \"InvoiceDate\": \"invoice_date\",\n",
    "    \"ProductID\": \"product_id\",\n",
    "    \"TotalAmount\": 'total_amount',\n",
    "    \"Quantity\": \"quantity\",\n",
    "    \"Price\": \"price\",\n",
    "    },inplace=True)"
   ]
  },
  {
   "cell_type": "code",
   "execution_count": 98,
   "metadata": {},
   "outputs": [],
   "source": [
    "# Меняем тип данных\n",
    "df['invoice_date'] = df['invoice_date'].apply(pd.to_datetime)\n",
    "\n",
    "# Для удобства будем считать настоящей дату на 1 день больше максимальной\n",
    "current_date = df['invoice_date'].max() + dt.timedelta(days=1)"
   ]
  },
  {
   "cell_type": "markdown",
   "metadata": {},
   "source": [
    "Заключение 1 этапа:\n",
    "\n",
    "* Был загружен файл CSV с данными.\n",
    "\n",
    "* Дубликатов и пустых значений найдено не было. 7 столбцов и 1000 строк в фрейме.\n",
    "\n",
    "* Всего 100 уникальных пользователей.\n",
    "\n",
    "* Данные с датами были переведены в нужный формат."
   ]
  },
  {
   "cell_type": "markdown",
   "metadata": {},
   "source": [
    "## Вычисление показателей RFM"
   ]
  },
  {
   "cell_type": "code",
   "execution_count": 99,
   "metadata": {},
   "outputs": [
    {
     "data": {
      "text/html": [
       "<div>\n",
       "<style scoped>\n",
       "    .dataframe tbody tr th:only-of-type {\n",
       "        vertical-align: middle;\n",
       "    }\n",
       "\n",
       "    .dataframe tbody tr th {\n",
       "        vertical-align: top;\n",
       "    }\n",
       "\n",
       "    .dataframe thead th {\n",
       "        text-align: right;\n",
       "    }\n",
       "</style>\n",
       "<table border=\"1\" class=\"dataframe\">\n",
       "  <thead>\n",
       "    <tr style=\"text-align: right;\">\n",
       "      <th></th>\n",
       "      <th>customer_id</th>\n",
       "      <th>recency</th>\n",
       "      <th>frequency</th>\n",
       "      <th>monetary</th>\n",
       "    </tr>\n",
       "  </thead>\n",
       "  <tbody>\n",
       "    <tr>\n",
       "      <th>0</th>\n",
       "      <td>CUST_1</td>\n",
       "      <td>7</td>\n",
       "      <td>12</td>\n",
       "      <td>9175.99</td>\n",
       "    </tr>\n",
       "    <tr>\n",
       "      <th>1</th>\n",
       "      <td>CUST_10</td>\n",
       "      <td>35</td>\n",
       "      <td>7</td>\n",
       "      <td>11365.12</td>\n",
       "    </tr>\n",
       "    <tr>\n",
       "      <th>2</th>\n",
       "      <td>CUST_100</td>\n",
       "      <td>36</td>\n",
       "      <td>6</td>\n",
       "      <td>5420.79</td>\n",
       "    </tr>\n",
       "    <tr>\n",
       "      <th>3</th>\n",
       "      <td>CUST_11</td>\n",
       "      <td>66</td>\n",
       "      <td>10</td>\n",
       "      <td>9623.72</td>\n",
       "    </tr>\n",
       "    <tr>\n",
       "      <th>4</th>\n",
       "      <td>CUST_12</td>\n",
       "      <td>38</td>\n",
       "      <td>5</td>\n",
       "      <td>9756.60</td>\n",
       "    </tr>\n",
       "  </tbody>\n",
       "</table>\n",
       "</div>"
      ],
      "text/plain": [
       "  customer_id  recency  frequency  monetary\n",
       "0      CUST_1        7         12   9175.99\n",
       "1     CUST_10       35          7  11365.12\n",
       "2    CUST_100       36          6   5420.79\n",
       "3     CUST_11       66         10   9623.72\n",
       "4     CUST_12       38          5   9756.60"
      ]
     },
     "metadata": {},
     "output_type": "display_data"
    }
   ],
   "source": [
    "# Вычисление RFM показателей\n",
    "rfm = df.groupby('customer_id').agg({\n",
    "    'invoice_date': lambda x: (current_date - x.max()).days,\n",
    "    'invoice_id': 'nunique',\n",
    "    'total_amount': 'sum'\n",
    "}).reset_index()\n",
    "\n",
    "rfm.columns = ['customer_id','recency', 'frequency', 'monetary']\n",
    "\n",
    "display(rfm.head())"
   ]
  },
  {
   "cell_type": "code",
   "execution_count": 100,
   "metadata": {},
   "outputs": [
    {
     "name": "stdout",
     "output_type": "stream",
     "text": [
      "<bound method NDFrame.head of    customer_id  recency  frequency  monetary r_score f_score m_score rfm_score\n",
      "0       CUST_1        7         12   9175.99       5       4       1       541\n",
      "1      CUST_10       35          7  11365.12       3       1       2       312\n",
      "2     CUST_100       36          6   5420.79       2       1       1       211\n",
      "3      CUST_11       66         10   9623.72       1       3       1       131\n",
      "4      CUST_12       38          5   9756.60       2       1       2       212\n",
      "..         ...      ...        ...       ...     ...     ...     ...       ...\n",
      "95     CUST_95        5         12  11845.99       5       4       2       542\n",
      "96     CUST_96       58         11  12124.10       1       3       2       132\n",
      "97     CUST_97       94          8  11774.80       1       2       2       122\n",
      "98     CUST_98        9         12  16257.65       5       4       4       544\n",
      "99     CUST_99       15         10  16799.16       4       3       4       434\n",
      "\n",
      "[100 rows x 8 columns]>\n"
     ]
    }
   ],
   "source": [
    "# Квантильные значения\n",
    "\n",
    "rfm['r_score']= pd.qcut(rfm['recency'],5, labels=[5,4,3,2,1]) # Чем меньше значение recency, тем больше оценка.\n",
    "\n",
    "rfm['f_score']= pd.qcut(rfm['frequency'],5, labels=range(1,6))\n",
    "\n",
    "rfm['m_score']= pd.qcut(rfm['monetary'],5,labels=range(1,6))\n",
    "\n",
    "rfm['rfm_score']= rfm['r_score'].astype(str) + rfm['f_score'].astype(str) + rfm['m_score'].astype(str)      \n",
    "print(rfm.head)"
   ]
  },
  {
   "cell_type": "code",
   "execution_count": 101,
   "metadata": {},
   "outputs": [],
   "source": [
    "def assign_rfm_segment(row):\n",
    "    r = row['r_score']\n",
    "    f = row['f_score']\n",
    "    m = row['m_score']\n",
    "    \n",
    "    # Основные группы по Recency\n",
    "    if r >= 4:\n",
    "        if f >= 4 and m >= 4:\n",
    "            return 'Champions'\n",
    "        elif f >= 3 and m >= 3:\n",
    "            return 'Loyal Fans'\n",
    "        elif f >= 2 and m >= 2:\n",
    "            return 'Active Spenders'\n",
    "        elif f >= 1 and m >= 1:\n",
    "            return 'New Engagers'\n",
    "    \n",
    "    if r == 3:\n",
    "        if f >= 4 and m >= 4:\n",
    "            return 'Potential Champions'\n",
    "        elif f >= 3 and m >= 3:\n",
    "            return 'Core Customers'\n",
    "        elif f >= 2 and m >= 2:\n",
    "            return 'Need Attention'\n",
    "        else:\n",
    "            return 'Casual Shoppers'\n",
    "    \n",
    "    if r <= 2:\n",
    "        if f >= 4 and m >= 4:\n",
    "            if r == 2:\n",
    "                return 'At-Risk Big Spenders'\n",
    "            else:\n",
    "                return 'Cant Lose Them'\n",
    "        elif f >= 3 and m >= 3:\n",
    "            return 'High Value Sleepers'\n",
    "        elif f >= 2 and m >= 2:\n",
    "            return 'Medium Value Sleepers'\n",
    "        elif f >= 1 and m >= 1:\n",
    "            return 'Low Activity'\n",
    "    \n",
    "    # Специальные случаи\n",
    "    if m >= 4:\n",
    "        if f <= 2:\n",
    "            return 'Whales Needing Activation'\n",
    "        elif r <= 2:\n",
    "            return 'Sleeping Whales'\n",
    "    \n",
    "    if f >= 4 and m <= 2:\n",
    "        return 'Frequent Low Spenders'\n",
    "    \n",
    "    if f <= 2 and m <= 2:\n",
    "        return 'Window Shoppers'\n",
    "    \n",
    "    return 'Others'\n",
    "\n",
    "rfm['segment'] = rfm.apply(assign_rfm_segment, axis=1)"
   ]
  },
  {
   "cell_type": "markdown",
   "metadata": {},
   "source": [
    "Заключение по 2 этапу:\n",
    "\n",
    "* Были расчитаны RFM показатели и создан 2 датафрейм (rfm).\n",
    "\n",
    "* По RFM показателям составлены оценки от 1 до 5.\n",
    "\n",
    "* Имея оцененные данные, была сделана сегментация пользователей по характеру показателей.\n",
    "\n"
   ]
  },
  {
   "cell_type": "markdown",
   "metadata": {},
   "source": [
    "## Визуализация результатов"
   ]
  },
  {
   "cell_type": "code",
   "execution_count": 102,
   "metadata": {},
   "outputs": [
    {
     "data": {
      "image/png": "[encoded data removed]",
      "text/plain": [
       "<Figure size 1200x800 with 1 Axes>"
      ]
     },
     "metadata": {},
     "output_type": "display_data"
    }
   ],
   "source": [
    "plt.figure(figsize=(12,8))\n",
    "segments_plot = rfm['segment'].value_counts().sort_values(ascending=True)\n",
    "segments_plot.plot(kind='barh', color='teal')\n",
    "plt.title('Распределение по RFM-сегментам', fontsize=14)\n",
    "plt.xlabel('Количество клиентов', fontsize=12)\n",
    "plt.ylabel('Сегмент', fontsize=12)\n",
    "plt.grid(axis='x', alpha=0.4)\n",
    "plt.show()"
   ]
  },
  {
   "cell_type": "code",
   "execution_count": 103,
   "metadata": {},
   "outputs": [
    {
     "data": {
      "image/png": "[encoded data removed]",
      "text/plain": [
       "<Figure size 1000x600 with 2 Axes>"
      ]
     },
     "metadata": {},
     "output_type": "display_data"
    }
   ],
   "source": [
    "rfm['r_score'] = rfm['r_score'].astype(int)\n",
    "rfm['f_score'] = rfm['f_score'].astype(int)\n",
    "rfm['m_score'] = rfm['m_score'].astype(int)\n",
    "\n",
    "rfm_avg = rfm.groupby(['r_score', 'f_score'])['monetary'].mean().reset_index()\n",
    "rfm_pivot = rfm_avg.pivot(index='r_score', columns='f_score', values='monetary')\n",
    "\n",
    "plt.figure(figsize=(10, 6))\n",
    "sns.heatmap(rfm_pivot, annot=True, cmap='YlGnBu', fmt='.1f')\n",
    "plt.title('Тепловая карта RFM (средний Monetary)')\n",
    "plt.xlabel('Frequency score')\n",
    "plt.ylabel('Recency score')\n",
    "plt.show()"
   ]
  },
  {
   "cell_type": "code",
   "execution_count": 104,
   "metadata": {},
   "outputs": [
    {
     "name": "stdout",
     "output_type": "stream",
     "text": [
      "                      recency frequency monetary      \n",
      "                         mean      mean     mean count\n",
      "segment                                               \n",
      "Active Spenders          12.1       9.5  12425.5    10\n",
      "At-Risk Big Spenders     50.0      14.0  20586.9     5\n",
      "Cant Lose Them           79.0      14.0  18197.2     1\n",
      "Casual Shoppers          32.0       6.3   8575.8     3\n",
      "Champions                10.1      13.2  17942.6    12\n",
      "Core Customers           25.7      10.8  14846.3     6\n",
      "High Value Sleepers      61.9      11.4  15818.6     9\n",
      "Low Activity             73.1       6.9   9434.2    15\n",
      "Loyal Fans               11.4      11.4  15679.5    11\n",
      "Medium Value Sleepers    72.2       8.9  12847.4    10\n",
      "Need Attention           28.8      10.2  12240.3     4\n",
      "New Engagers             10.1       8.0   9609.4    13\n",
      "Potential Champions      29.0      12.0  19453.0     1\n"
     ]
    }
   ],
   "source": [
    "print(rfm.groupby('segment').agg({\n",
    "    'recency': 'mean',\n",
    "    'frequency': 'mean',\n",
    "    'monetary': ['mean', 'count']\n",
    "}).round(1))"
   ]
  },
  {
   "cell_type": "code",
   "execution_count": 105,
   "metadata": {},
   "outputs": [
    {
     "data": {
      "text/html": [
       "<div>\n",
       "<style scoped>\n",
       "    .dataframe tbody tr th:only-of-type {\n",
       "        vertical-align: middle;\n",
       "    }\n",
       "\n",
       "    .dataframe tbody tr th {\n",
       "        vertical-align: top;\n",
       "    }\n",
       "\n",
       "    .dataframe thead th {\n",
       "        text-align: right;\n",
       "    }\n",
       "</style>\n",
       "<table border=\"1\" class=\"dataframe\">\n",
       "  <thead>\n",
       "    <tr style=\"text-align: right;\">\n",
       "      <th></th>\n",
       "      <th>customer_id</th>\n",
       "      <th>monetary</th>\n",
       "      <th>segment</th>\n",
       "    </tr>\n",
       "  </thead>\n",
       "  <tbody>\n",
       "    <tr>\n",
       "      <th>12</th>\n",
       "      <td>CUST_2</td>\n",
       "      <td>25847.27</td>\n",
       "      <td>At-Risk Big Spenders</td>\n",
       "    </tr>\n",
       "    <tr>\n",
       "      <th>44</th>\n",
       "      <td>CUST_49</td>\n",
       "      <td>24650.30</td>\n",
       "      <td>At-Risk Big Spenders</td>\n",
       "    </tr>\n",
       "    <tr>\n",
       "      <th>90</th>\n",
       "      <td>CUST_90</td>\n",
       "      <td>23699.71</td>\n",
       "      <td>Champions</td>\n",
       "    </tr>\n",
       "    <tr>\n",
       "      <th>60</th>\n",
       "      <td>CUST_63</td>\n",
       "      <td>23372.17</td>\n",
       "      <td>Loyal Fans</td>\n",
       "    </tr>\n",
       "    <tr>\n",
       "      <th>59</th>\n",
       "      <td>CUST_62</td>\n",
       "      <td>23066.04</td>\n",
       "      <td>High Value Sleepers</td>\n",
       "    </tr>\n",
       "    <tr>\n",
       "      <th>...</th>\n",
       "      <td>...</td>\n",
       "      <td>...</td>\n",
       "      <td>...</td>\n",
       "    </tr>\n",
       "    <tr>\n",
       "      <th>70</th>\n",
       "      <td>CUST_72</td>\n",
       "      <td>7024.08</td>\n",
       "      <td>New Engagers</td>\n",
       "    </tr>\n",
       "    <tr>\n",
       "      <th>53</th>\n",
       "      <td>CUST_57</td>\n",
       "      <td>6496.27</td>\n",
       "      <td>Low Activity</td>\n",
       "    </tr>\n",
       "    <tr>\n",
       "      <th>40</th>\n",
       "      <td>CUST_45</td>\n",
       "      <td>6457.61</td>\n",
       "      <td>New Engagers</td>\n",
       "    </tr>\n",
       "    <tr>\n",
       "      <th>62</th>\n",
       "      <td>CUST_65</td>\n",
       "      <td>5852.66</td>\n",
       "      <td>Casual Shoppers</td>\n",
       "    </tr>\n",
       "    <tr>\n",
       "      <th>2</th>\n",
       "      <td>CUST_100</td>\n",
       "      <td>5420.79</td>\n",
       "      <td>Low Activity</td>\n",
       "    </tr>\n",
       "  </tbody>\n",
       "</table>\n",
       "<p>100 rows × 3 columns</p>\n",
       "</div>"
      ],
      "text/plain": [
       "   customer_id  monetary               segment\n",
       "12      CUST_2  25847.27  At-Risk Big Spenders\n",
       "44     CUST_49  24650.30  At-Risk Big Spenders\n",
       "90     CUST_90  23699.71             Champions\n",
       "60     CUST_63  23372.17            Loyal Fans\n",
       "59     CUST_62  23066.04   High Value Sleepers\n",
       "..         ...       ...                   ...\n",
       "70     CUST_72   7024.08          New Engagers\n",
       "53     CUST_57   6496.27          Low Activity\n",
       "40     CUST_45   6457.61          New Engagers\n",
       "62     CUST_65   5852.66       Casual Shoppers\n",
       "2     CUST_100   5420.79          Low Activity\n",
       "\n",
       "[100 rows x 3 columns]"
      ]
     },
     "execution_count": 105,
     "metadata": {},
     "output_type": "execute_result"
    }
   ],
   "source": [
    "top_customers = rfm.sort_values(by='monetary', ascending=False)\n",
    "top_customers[['customer_id','monetary','segment']]\n",
    "\n",
    "# Сохраняем результат анализа в reports\n",
    "\n",
    "# top_customers.to_csv('top_customers_2023_24.csv', index=False)"
   ]
  },
  {
   "cell_type": "code",
   "execution_count": 106,
   "metadata": {},
   "outputs": [],
   "source": [
    "# Сохраняем результат анализа в reports\n",
    "\n",
    "# rfm.to_csv('rfm_analysis_2023_24.csv', index=False)"
   ]
  },
  {
   "cell_type": "markdown",
   "metadata": {},
   "source": [
    "Заключение по 3 этапу:\n",
    "\n",
    "* Были выстроены графики:\n",
    "    \n",
    "    * BarhPlot: выводы по графику показали, что топ 3 категории пользователей - это Low activity customers, New Engagers и Champions и замыкают график Potential Champions, Cant Lose Them.\n",
    "\n",
    "    * Heatmap: тепловая карта показала закономерный результат,что частые клиенты оставляют больше сумму, хотя можно заметить разрыв в Recency, что потратив однажды очень много, покупатели не возвращались.\n",
    "\n",
    "* Результаты загружены в CSV файлы в папку reports вместе с графиками."
   ]
  },
  {
   "cell_type": "markdown",
   "metadata": {},
   "source": [
    "## Общий итог"
   ]
  },
  {
   "cell_type": "markdown",
   "metadata": {},
   "source": [
    "Изучив сгенерированные данные, можно сделать следующий вывод:\n",
    "\n",
    "* На уникальных 100 пользователей, получилась очень разновидная сегментация.\n",
    "\n",
    "* Из 100 пользователей больше всего:\n",
    "\n",
    "    * неактивных пользователей из этого следует, что нужны промоакции для привлечения.\n",
    "\n",
    "    * Так называемые чемпионы, категория пользователей, которая часто посещает, покупает и тратит большие суммы. Для них и лояльных клиентов можно сделать персонализированную программу лояльности.\n",
    "\n",
    "    * Новых пользователей тоже много, для данной категории, правильным решением будет создания механизмов вовлечения в продукт."
   ]
  }
 ],
 "metadata": {
  "kernelspec": {
   "display_name": ".venv",
   "language": "python",
   "name": "python3"
  },
  "language_info": {
   "codemirror_mode": {
    "name": "ipython",
    "version": 3
   },
   "file_extension": ".py",
   "mimetype": "text/x-python",
   "name": "python",
   "nbconvert_exporter": "python",
   "pygments_lexer": "ipython3",
   "version": "3.13.1"
  }
 },
 "nbformat": 4,
 "nbformat_minor": 2
}
